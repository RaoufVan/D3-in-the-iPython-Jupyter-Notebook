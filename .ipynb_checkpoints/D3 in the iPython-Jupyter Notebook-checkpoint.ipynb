{
 "cells": [
  {
   "cell_type": "markdown",
   "metadata": {},
   "source": [
    "<div> A neat way to put D3.js into the iPython/Jupyter notebook</div>"
   ]
  },
  {
   "cell_type": "code",
   "execution_count": 43,
   "metadata": {
    "collapsed": false
   },
   "outputs": [
    {
     "name": "stdout",
     "output_type": "stream",
     "text": [
      "Overwriting f1.template\n"
     ]
    }
   ],
   "source": [
    "%%writefile f1.template\n",
    "<!DOCTYPE html>\n",
    "<html>\n",
    "    <meta http-equiv=\"Content-Type\" content=\"text/html;charset=utf-8\"/>\n",
    "    <script type=\"text/javascript\" src=\"http://mbostock.github.io/d3/talk/20111018/d3/d3.js\"></script>\n",
    "    <script type=\"text/javascript\" src=\"http://mbostock.github.io/d3/talk/20111018/d3/d3.geom.js\"></script>\n",
    "    <script type=\"text/javascript\" src=\"http://mbostock.github.io/d3/talk/20111018/d3/d3.layout.js\"></script>\n",
    "    <style type=\"text/css\">\n",
    "    </style>\n",
    "  \n",
    "<body>\n",
    "<!-- nice simple setup template for D3.js -->\n",
    "    <div id=\"body\">\n",
    "    <script type=\"text/javascript\">\n",
    "        \n",
    "        // setup width and height\n",
    "        var w = {width},\n",
    "        h = {height};\n",
    "\n",
    "        // draw the canvas\n",
    "        var canvas = d3.select(\"#body\").append(\"svg:svg\")\n",
    "            .attr(\"width\", w)\n",
    "            .attr(\"height\", h);\n",
    "            \n",
    "        // pop a rectangle on the canvas\n",
    "         var rect = canvas.append(\"svg:rect\")\n",
    "            .attr(\"x\", 100)\n",
    "            .attr(\"y\", 100)\n",
    "            .attr(\"width\", 300)\n",
    "            .attr(\"height\", 200)\n",
    "            \n",
    "        // pop some text on the canvas\n",
    "        var someText = canvas.append(\"svg:text\")\n",
    "            .attr(\"x\", 150)\n",
    "            .attr(\"y\", 150)\n",
    "            .text(function(d) {\n",
    "                    return 'Hello world!'\n",
    "                })\n",
    "            .attr(\"font-family\", \"sans-serif\")\n",
    "            .attr(\"font-size\", \"20px\")\n",
    "            .attr(\"fill\", \"orange\");\n",
    "            \n",
    "\n",
    "    </script>\n",
    "  </body>\n",
    "</html>"
   ]
  },
  {
   "cell_type": "code",
   "execution_count": 44,
   "metadata": {
    "collapsed": false
   },
   "outputs": [],
   "source": [
    "# The all-important code from Ariel Keselman - https://github.com/skariel/IPython_d3_js_demo\n",
    "\n",
    "from IPython.display import IFrame\n",
    "import re\n",
    "\n",
    "def replace_all(txt,d):\n",
    "    rep = dict((re.escape('{'+k+'}'), str(v)) for k, v in d.items())\n",
    "    pattern = re.compile(\"|\".join(rep.keys()))\n",
    "    return pattern.sub(lambda m: rep[re.escape(m.group(0))], txt)    \n",
    "\n",
    "count=0\n",
    "def serve_html(s,w,h):\n",
    "    import os\n",
    "    global count\n",
    "    count+=1\n",
    "    fn= '__tmp'+str(os.getpid())+'_'+str(count)+'.html'\n",
    "    with open(fn,'w') as f:\n",
    "        f.write(s)\n",
    "    return IFrame('files/'+fn,w,h)\n",
    "\n",
    "def f1(w=1000,h=500):\n",
    "    d={\n",
    "       'width'      :w,\n",
    "       'height'     :h,\n",
    "       }\n",
    "    with open('f1.template','r') as f:\n",
    "        s=f.read()\n",
    "        s= replace_all(s,d)        \n",
    "    return serve_html(s,w,h)"
   ]
  },
  {
   "cell_type": "code",
   "execution_count": 45,
   "metadata": {
    "collapsed": false
   },
   "outputs": [
    {
     "data": {
      "text/html": [
       "\n",
       "        <iframe\n",
       "            width=\"1000\"\n",
       "            height=\"500\"\n",
       "            src=\"files/__tmp926_1.html\"\n",
       "            frameborder=\"0\"\n",
       "            allowfullscreen\n",
       "        ></iframe>\n",
       "        "
      ],
      "text/plain": [
       "<IPython.lib.display.IFrame at 0x102e465d0>"
      ]
     },
     "execution_count": 45,
     "metadata": {},
     "output_type": "execute_result"
    }
   ],
   "source": [
    "#ta da!\n",
    "f1()"
   ]
  },
  {
   "cell_type": "code",
   "execution_count": null,
   "metadata": {
    "collapsed": true
   },
   "outputs": [],
   "source": []
  }
 ],
 "metadata": {
  "kernelspec": {
   "display_name": "Python 2",
   "language": "python",
   "name": "python2"
  },
  "language_info": {
   "codemirror_mode": {
    "name": "ipython",
    "version": 2
   },
   "file_extension": ".py",
   "mimetype": "text/x-python",
   "name": "python",
   "nbconvert_exporter": "python",
   "pygments_lexer": "ipython2",
   "version": "2.7.6"
  }
 },
 "nbformat": 4,
 "nbformat_minor": 0
}
